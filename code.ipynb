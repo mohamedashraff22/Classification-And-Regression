{
 "cells": [
  {
   "cell_type": "markdown",
   "metadata": {},
   "source": [
    "Team :\n",
    "Mohamed Ashraf Khalaf Hafez     ID : 2205201 ; \n",
    "Khalid Walid Mohamed Ghalwash   ID : 2205018"
   ]
  },
  {
   "cell_type": "code",
   "execution_count": 31,
   "metadata": {},
   "outputs": [],
   "source": [
    "# Libraries for both questions.\n",
    "import pandas as pd\n",
    "import numpy as np\n",
    "import matplotlib.pyplot as plt\n",
    "# Libraries for KNN question.\n",
    "from sklearn.neighbors import KNeighborsClassifier\n",
    "from sklearn.metrics import classification_report\n",
    "from imblearn.over_sampling import RandomOverSampler # for oversamples(gamma and hadrons)\n",
    "import seaborn as sns # used for some plotting\n",
    "from sklearn.metrics import accuracy_score, precision_score, recall_score, f1_score, confusion_matrix\n",
    "# Libraries for Regression question.\n",
    "from sklearn.linear_model import LinearRegression,  Lasso, Ridge\n",
    "from sklearn.model_selection import train_test_split #for splitting data\n",
    "from sklearn.metrics import mean_squared_error, mean_absolute_error, r2_score"
   ]
  },
  {
   "cell_type": "markdown",
   "metadata": {},
   "source": [
    "KNN Assignment"
   ]
  },
  {
   "cell_type": "markdown",
   "metadata": {},
   "source": [
    "Read data"
   ]
  },
  {
   "cell_type": "code",
   "execution_count": 32,
   "metadata": {},
   "outputs": [
    {
     "data": {
      "text/html": [
       "<div>\n",
       "<style scoped>\n",
       "    .dataframe tbody tr th:only-of-type {\n",
       "        vertical-align: middle;\n",
       "    }\n",
       "\n",
       "    .dataframe tbody tr th {\n",
       "        vertical-align: top;\n",
       "    }\n",
       "\n",
       "    .dataframe thead th {\n",
       "        text-align: right;\n",
       "    }\n",
       "</style>\n",
       "<table border=\"1\" class=\"dataframe\">\n",
       "  <thead>\n",
       "    <tr style=\"text-align: right;\">\n",
       "      <th></th>\n",
       "      <th>fLength</th>\n",
       "      <th>fWidth</th>\n",
       "      <th>fSize</th>\n",
       "      <th>fConc</th>\n",
       "      <th>fConc1</th>\n",
       "      <th>fAsym</th>\n",
       "      <th>fM3Long</th>\n",
       "      <th>fM3Trans</th>\n",
       "      <th>fAlpha</th>\n",
       "      <th>fDist</th>\n",
       "      <th>class</th>\n",
       "    </tr>\n",
       "  </thead>\n",
       "  <tbody>\n",
       "    <tr>\n",
       "      <th>0</th>\n",
       "      <td>28.7967</td>\n",
       "      <td>16.0021</td>\n",
       "      <td>2.6449</td>\n",
       "      <td>0.3918</td>\n",
       "      <td>0.1982</td>\n",
       "      <td>27.7004</td>\n",
       "      <td>22.0110</td>\n",
       "      <td>-8.2027</td>\n",
       "      <td>40.0920</td>\n",
       "      <td>81.8828</td>\n",
       "      <td>g</td>\n",
       "    </tr>\n",
       "    <tr>\n",
       "      <th>1</th>\n",
       "      <td>31.6036</td>\n",
       "      <td>11.7235</td>\n",
       "      <td>2.5185</td>\n",
       "      <td>0.5303</td>\n",
       "      <td>0.3773</td>\n",
       "      <td>26.2722</td>\n",
       "      <td>23.8238</td>\n",
       "      <td>-9.9574</td>\n",
       "      <td>6.3609</td>\n",
       "      <td>205.2610</td>\n",
       "      <td>g</td>\n",
       "    </tr>\n",
       "    <tr>\n",
       "      <th>2</th>\n",
       "      <td>162.0520</td>\n",
       "      <td>136.0310</td>\n",
       "      <td>4.0612</td>\n",
       "      <td>0.0374</td>\n",
       "      <td>0.0187</td>\n",
       "      <td>116.7410</td>\n",
       "      <td>-64.8580</td>\n",
       "      <td>-45.2160</td>\n",
       "      <td>76.9600</td>\n",
       "      <td>256.7880</td>\n",
       "      <td>g</td>\n",
       "    </tr>\n",
       "    <tr>\n",
       "      <th>3</th>\n",
       "      <td>23.8172</td>\n",
       "      <td>9.5728</td>\n",
       "      <td>2.3385</td>\n",
       "      <td>0.6147</td>\n",
       "      <td>0.3922</td>\n",
       "      <td>27.2107</td>\n",
       "      <td>-6.4633</td>\n",
       "      <td>-7.1513</td>\n",
       "      <td>10.4490</td>\n",
       "      <td>116.7370</td>\n",
       "      <td>g</td>\n",
       "    </tr>\n",
       "    <tr>\n",
       "      <th>4</th>\n",
       "      <td>75.1362</td>\n",
       "      <td>30.9205</td>\n",
       "      <td>3.1611</td>\n",
       "      <td>0.3168</td>\n",
       "      <td>0.1832</td>\n",
       "      <td>-5.5277</td>\n",
       "      <td>28.5525</td>\n",
       "      <td>21.8393</td>\n",
       "      <td>4.6480</td>\n",
       "      <td>356.4620</td>\n",
       "      <td>g</td>\n",
       "    </tr>\n",
       "  </tbody>\n",
       "</table>\n",
       "</div>"
      ],
      "text/plain": [
       "    fLength    fWidth   fSize   fConc  fConc1     fAsym  fM3Long  fM3Trans  \\\n",
       "0   28.7967   16.0021  2.6449  0.3918  0.1982   27.7004  22.0110   -8.2027   \n",
       "1   31.6036   11.7235  2.5185  0.5303  0.3773   26.2722  23.8238   -9.9574   \n",
       "2  162.0520  136.0310  4.0612  0.0374  0.0187  116.7410 -64.8580  -45.2160   \n",
       "3   23.8172    9.5728  2.3385  0.6147  0.3922   27.2107  -6.4633   -7.1513   \n",
       "4   75.1362   30.9205  3.1611  0.3168  0.1832   -5.5277  28.5525   21.8393   \n",
       "\n",
       "    fAlpha     fDist class  \n",
       "0  40.0920   81.8828     g  \n",
       "1   6.3609  205.2610     g  \n",
       "2  76.9600  256.7880     g  \n",
       "3  10.4490  116.7370     g  \n",
       "4   4.6480  356.4620     g  "
      ]
     },
     "execution_count": 32,
     "metadata": {},
     "output_type": "execute_result"
    }
   ],
   "source": [
    "# idea i want to predict the patterns came from  gammas or hadrons to future samples (classification) , each sample has features\n",
    "# create columns name as they are not in the original dataset\n",
    "cols = [\"fLength\" , \"fWidth\" , \"fSize\" , \"fConc\" , \"fConc1\" , \"fAsym\" , \"fM3Long\" , \"fM3Trans\" , \"fAlpha\" , \"fDist\" , \"class\"]\n",
    "\n",
    "# turn data csv to data frame object\n",
    "df = pd.read_csv(\"magic04.data\" , names=cols)\n",
    "df.head()"
   ]
  },
  {
   "cell_type": "code",
   "execution_count": 33,
   "metadata": {},
   "outputs": [
    {
     "data": {
      "text/html": [
       "<div>\n",
       "<style scoped>\n",
       "    .dataframe tbody tr th:only-of-type {\n",
       "        vertical-align: middle;\n",
       "    }\n",
       "\n",
       "    .dataframe tbody tr th {\n",
       "        vertical-align: top;\n",
       "    }\n",
       "\n",
       "    .dataframe thead th {\n",
       "        text-align: right;\n",
       "    }\n",
       "</style>\n",
       "<table border=\"1\" class=\"dataframe\">\n",
       "  <thead>\n",
       "    <tr style=\"text-align: right;\">\n",
       "      <th></th>\n",
       "      <th>fLength</th>\n",
       "      <th>fWidth</th>\n",
       "      <th>fSize</th>\n",
       "      <th>fConc</th>\n",
       "      <th>fConc1</th>\n",
       "      <th>fAsym</th>\n",
       "      <th>fM3Long</th>\n",
       "      <th>fM3Trans</th>\n",
       "      <th>fAlpha</th>\n",
       "      <th>fDist</th>\n",
       "      <th>class</th>\n",
       "    </tr>\n",
       "  </thead>\n",
       "  <tbody>\n",
       "    <tr>\n",
       "      <th>0</th>\n",
       "      <td>28.7967</td>\n",
       "      <td>16.0021</td>\n",
       "      <td>2.6449</td>\n",
       "      <td>0.3918</td>\n",
       "      <td>0.1982</td>\n",
       "      <td>27.7004</td>\n",
       "      <td>22.0110</td>\n",
       "      <td>-8.2027</td>\n",
       "      <td>40.0920</td>\n",
       "      <td>81.8828</td>\n",
       "      <td>1</td>\n",
       "    </tr>\n",
       "    <tr>\n",
       "      <th>1</th>\n",
       "      <td>31.6036</td>\n",
       "      <td>11.7235</td>\n",
       "      <td>2.5185</td>\n",
       "      <td>0.5303</td>\n",
       "      <td>0.3773</td>\n",
       "      <td>26.2722</td>\n",
       "      <td>23.8238</td>\n",
       "      <td>-9.9574</td>\n",
       "      <td>6.3609</td>\n",
       "      <td>205.2610</td>\n",
       "      <td>1</td>\n",
       "    </tr>\n",
       "    <tr>\n",
       "      <th>2</th>\n",
       "      <td>162.0520</td>\n",
       "      <td>136.0310</td>\n",
       "      <td>4.0612</td>\n",
       "      <td>0.0374</td>\n",
       "      <td>0.0187</td>\n",
       "      <td>116.7410</td>\n",
       "      <td>-64.8580</td>\n",
       "      <td>-45.2160</td>\n",
       "      <td>76.9600</td>\n",
       "      <td>256.7880</td>\n",
       "      <td>1</td>\n",
       "    </tr>\n",
       "    <tr>\n",
       "      <th>3</th>\n",
       "      <td>23.8172</td>\n",
       "      <td>9.5728</td>\n",
       "      <td>2.3385</td>\n",
       "      <td>0.6147</td>\n",
       "      <td>0.3922</td>\n",
       "      <td>27.2107</td>\n",
       "      <td>-6.4633</td>\n",
       "      <td>-7.1513</td>\n",
       "      <td>10.4490</td>\n",
       "      <td>116.7370</td>\n",
       "      <td>1</td>\n",
       "    </tr>\n",
       "    <tr>\n",
       "      <th>4</th>\n",
       "      <td>75.1362</td>\n",
       "      <td>30.9205</td>\n",
       "      <td>3.1611</td>\n",
       "      <td>0.3168</td>\n",
       "      <td>0.1832</td>\n",
       "      <td>-5.5277</td>\n",
       "      <td>28.5525</td>\n",
       "      <td>21.8393</td>\n",
       "      <td>4.6480</td>\n",
       "      <td>356.4620</td>\n",
       "      <td>1</td>\n",
       "    </tr>\n",
       "  </tbody>\n",
       "</table>\n",
       "</div>"
      ],
      "text/plain": [
       "    fLength    fWidth   fSize   fConc  fConc1     fAsym  fM3Long  fM3Trans  \\\n",
       "0   28.7967   16.0021  2.6449  0.3918  0.1982   27.7004  22.0110   -8.2027   \n",
       "1   31.6036   11.7235  2.5185  0.5303  0.3773   26.2722  23.8238   -9.9574   \n",
       "2  162.0520  136.0310  4.0612  0.0374  0.0187  116.7410 -64.8580  -45.2160   \n",
       "3   23.8172    9.5728  2.3385  0.6147  0.3922   27.2107  -6.4633   -7.1513   \n",
       "4   75.1362   30.9205  3.1611  0.3168  0.1832   -5.5277  28.5525   21.8393   \n",
       "\n",
       "    fAlpha     fDist  class  \n",
       "0  40.0920   81.8828      1  \n",
       "1   6.3609  205.2610      1  \n",
       "2  76.9600  256.7880      1  \n",
       "3  10.4490  116.7370      1  \n",
       "4   4.6480  356.4620      1  "
      ]
     },
     "execution_count": 33,
     "metadata": {},
     "output_type": "execute_result"
    }
   ],
   "source": [
    "# g ==> gamma , h ==> hadrons , and convert g ==> 1 & h ==> 0\n",
    "df[\"class\"].unique()\n",
    "\n",
    "df[\"class\"] = (df[\"class\"] == 'g').astype(int)\n",
    "\n",
    "df.head()\n"
   ]
  },
  {
   "cell_type": "markdown",
   "metadata": {},
   "source": [
    "Split data : Train , validation , test datasets."
   ]
  },
  {
   "cell_type": "code",
   "execution_count": 60,
   "metadata": {},
   "outputs": [
    {
     "name": "stdout",
     "output_type": "stream",
     "text": [
      "Length of whole data 19020\n",
      "Train data number  13313\n",
      "vVlidation data number  2854\n",
      "Test data number  2853\n"
     ]
    }
   ],
   "source": [
    "# use numpy to split data\n",
    "# first place i will split dataframe at 70% then at 85% , every thing between 70% and 85% will go to ==> validate\n",
    "train_validate, test = train_test_split(df, test_size=0.15, random_state=42)\n",
    "train , valid = train_test_split(train_validate, test_size=0.1765, random_state=42)\n",
    "\n",
    "print(\"Length of whole data\" , len(df))\n",
    "print (\"Train data number \" , len(train) )\n",
    "print (\"vVlidation data number \" , len(valid) )\n",
    "print (\"Test data number \" , len(test) )"
   ]
  },
  {
   "cell_type": "code",
   "execution_count": 35,
   "metadata": {},
   "outputs": [
    {
     "name": "stdout",
     "output_type": "stream",
     "text": [
      "8646\n",
      "4667\n"
     ]
    }
   ],
   "source": [
    "print(len(train[train[\"class\"]==1])) # print number of gammas\n",
    "print(len(train[train[\"class\"]==0])) # hadrons\n",
    "# data of gammas is much more ==> so i will use oversampling"
   ]
  },
  {
   "cell_type": "code",
   "execution_count": 36,
   "metadata": {},
   "outputs": [],
   "source": [
    "# Oversammpling function\n",
    "# oversample is false for default\n",
    "def scale_dataset(dataframe, oversample=False):\n",
    "  # the labels will gonna be the last thing in the dataframe.\n",
    "  X = dataframe[dataframe.columns[:-1]].values # Features\n",
    "  y = dataframe[dataframe.columns[-1]].values  # Output\n",
    "\n",
    "  if oversample:\n",
    "   ros = RandomOverSampler()\n",
    "   X, y = ros.fit_resample(X, y)\n",
    "\n",
    "  # horizentaly stack the data (not on top of each other) ==> the whole data as huge numpy array.\n",
    "  # I'll use reshape as x is 2D but y is 1d(vector) , -1 == len(y).\n",
    "  data = np.hstack((X , np.reshape(y , (-1 , 1))))\n",
    "  \n",
    "  return data ,X ,y"
   ]
  },
  {
   "cell_type": "code",
   "execution_count": 37,
   "metadata": {},
   "outputs": [],
   "source": [
    "train, Xk_train, yk_train = scale_dataset(train, oversample=True)\n",
    "valid, Xk_valid, yk_valid = scale_dataset(valid, oversample=False)\n",
    "test, Xk_test, yk_test = scale_dataset(test, oversample=False)\n",
    "# In validate and test data i dont care about oversampling."
   ]
  },
  {
   "cell_type": "code",
   "execution_count": 38,
   "metadata": {},
   "outputs": [
    {
     "name": "stdout",
     "output_type": "stream",
     "text": [
      "17292\n",
      "8646\n",
      "8646\n"
     ]
    }
   ],
   "source": [
    "# check\n",
    "print(len(yk_train))\n",
    "# train data are equal now\n",
    "print(sum(yk_train == 1))\n",
    "print(sum(yk_train == 0))"
   ]
  },
  {
   "cell_type": "markdown",
   "metadata": {},
   "source": [
    "Scalling"
   ]
  },
  {
   "cell_type": "code",
   "execution_count": 39,
   "metadata": {},
   "outputs": [],
   "source": [
    "from sklearn.preprocessing import StandardScaler\n",
    "scaler = StandardScaler()\n",
    "# Fit the scaler on the training data and transform it\n",
    "Xk_train_scaled = scaler.fit_transform(Xk_train)\n",
    "# Scale test data\n",
    "Xk_test_scaled = scaler.transform(Xk_test)"
   ]
  },
  {
   "cell_type": "markdown",
   "metadata": {},
   "source": [
    "Applying KNN"
   ]
  },
  {
   "cell_type": "code",
   "execution_count": 40,
   "metadata": {},
   "outputs": [
    {
     "name": "stdout",
     "output_type": "stream",
     "text": [
      "              precision    recall  f1-score   support\n",
      "\n",
      "           0       0.74      0.73      0.73      1003\n",
      "           1       0.85      0.86      0.86      1850\n",
      "\n",
      "    accuracy                           0.81      2853\n",
      "   macro avg       0.80      0.79      0.80      2853\n",
      "weighted avg       0.81      0.81      0.81      2853\n",
      "\n"
     ]
    }
   ],
   "source": [
    "#Using k = 3\n",
    "knn_model1 = KNeighborsClassifier(n_neighbors=3) # n_neighbors ==> k (no of neighbors)\n",
    "knn_model1.fit(Xk_train_scaled, yk_train)\n",
    "\n",
    "yk_pred1 = knn_model1.predict(Xk_test_scaled)\n",
    "\n",
    "# Report of k = 3\n",
    "# The test data are labeld so we compare it with the predicted data of our model.\n",
    "print(classification_report(yk_test, yk_pred1))"
   ]
  },
  {
   "cell_type": "code",
   "execution_count": 41,
   "metadata": {},
   "outputs": [
    {
     "name": "stdout",
     "output_type": "stream",
     "text": [
      "              precision    recall  f1-score   support\n",
      "\n",
      "           0       0.79      0.68      0.73      1003\n",
      "           1       0.84      0.90      0.87      1850\n",
      "\n",
      "    accuracy                           0.82      2853\n",
      "   macro avg       0.81      0.79      0.80      2853\n",
      "weighted avg       0.82      0.82      0.82      2853\n",
      "\n"
     ]
    }
   ],
   "source": [
    "#Using k = 1\n",
    "knn_model2 = KNeighborsClassifier(n_neighbors=1) # n_neighbors ==> k (no of neighbors)\n",
    "knn_model2.fit(Xk_train_scaled, yk_train)\n",
    "yk_pred2 = knn_model2.predict(Xk_test_scaled)\n",
    "# Report of k = 3\n",
    "# The test data are labeld so we compare it with the predicted data of our model.\n",
    "print(classification_report(yk_test, yk_pred2))\n"
   ]
  },
  {
   "cell_type": "code",
   "execution_count": 42,
   "metadata": {},
   "outputs": [
    {
     "name": "stdout",
     "output_type": "stream",
     "text": [
      "              precision    recall  f1-score   support\n",
      "\n",
      "           0       0.76      0.73      0.75      1003\n",
      "           1       0.86      0.88      0.87      1850\n",
      "\n",
      "    accuracy                           0.83      2853\n",
      "   macro avg       0.81      0.80      0.81      2853\n",
      "weighted avg       0.82      0.83      0.82      2853\n",
      "\n"
     ]
    }
   ],
   "source": [
    "#Using k = 5\n",
    "knn_model3 = KNeighborsClassifier(n_neighbors=5) # n_neighbors ==> k (no of neighbors)\n",
    "knn_model3.fit(Xk_train_scaled, yk_train)\n",
    "yk_pred3 = knn_model3.predict(Xk_test_scaled)\n",
    "# Report of k = 5\n",
    "# The test data are labeld so we compare it with the predicted data of our model.\n",
    "print(classification_report(yk_test, yk_pred3))"
   ]
  },
  {
   "cell_type": "markdown",
   "metadata": {},
   "source": [
    "Or using confusion matrix"
   ]
  },
  {
   "cell_type": "code",
   "execution_count": 43,
   "metadata": {},
   "outputs": [],
   "source": [
    "# Get the unique classes present in the predicted labels\n",
    "unique_classes = np.unique(yk_pred1)\n",
    "\n",
    "# Use one of the unique classes as the positive label\n",
    "pos_label = unique_classes[0]  # Assuming the first unique class is the positive label\n",
    "\n",
    "# Calculate precision using the specified positive label\n",
    "precision = precision_score(yk_test, yk_pred1, pos_label=pos_label)\n"
   ]
  },
  {
   "cell_type": "code",
   "execution_count": 44,
   "metadata": {},
   "outputs": [
    {
     "name": "stdout",
     "output_type": "stream",
     "text": [
      "Test Accuracy: 0.8138801261829653\n",
      "Precision: 0.7374245472837022\n",
      "Recall: 0.7308075772681955\n",
      "F1 Score: 0.7341011517275914\n",
      "Confusion Matrix:\n",
      "[[ 733  270]\n",
      " [ 261 1589]]\n"
     ]
    },
    {
     "data": {
      "image/png": "[encoded data removed]",
      "text/plain": [
       "<Figure size 640x480 with 2 Axes>"
      ]
     },
     "metadata": {},
     "output_type": "display_data"
    }
   ],
   "source": [
    "#For example 1 , k=3\n",
    "# gamma ==> -ve , hadrons ==> +ve\n",
    "yk_pred1 = knn_model1.predict(Xk_test_scaled)\n",
    "accuracy = accuracy_score(yk_test, yk_pred1)\n",
    "precision = precision_score(yk_test, yk_pred1, pos_label=0)\n",
    "recall = recall_score(yk_test, yk_pred1, pos_label=0)\n",
    "f1 = f1_score(yk_test, yk_pred1, pos_label=0)\n",
    "conf_matrix = confusion_matrix(yk_test, yk_pred1)\n",
    "\n",
    "print(\"Test Accuracy:\", accuracy)\n",
    "print(\"Precision:\", precision)\n",
    "print(\"Recall:\", recall)\n",
    "print(\"F1 Score:\", f1)\n",
    "print(\"Confusion Matrix:\")\n",
    "print(conf_matrix)\n",
    "\n",
    "# Visualizing Confusion Matrix\n",
    "labels = ['hadrons', 'gamma']\n",
    "sns.heatmap(conf_matrix, annot=True, fmt='d', xticklabels=labels, yticklabels=labels, cmap='Blues')\n",
    "plt.xlabel('Predicted')\n",
    "plt.ylabel('Actual')\n",
    "plt.title('Confusion Matrix')\n",
    "plt.show()"
   ]
  },
  {
   "cell_type": "markdown",
   "metadata": {},
   "source": [
    "Comparison"
   ]
  },
  {
   "cell_type": "code",
   "execution_count": 45,
   "metadata": {},
   "outputs": [],
   "source": [
    "# Using K=3 and K=5 is better than using K=1 in on this data"
   ]
  },
  {
   "cell_type": "markdown",
   "metadata": {},
   "source": [
    "Regression Assignment"
   ]
  },
  {
   "cell_type": "markdown",
   "metadata": {},
   "source": [
    "Read data"
   ]
  },
  {
   "cell_type": "code",
   "execution_count": 46,
   "metadata": {},
   "outputs": [],
   "source": [
    "data = pd.read_csv(\"California_Houses.csv\")"
   ]
  },
  {
   "cell_type": "code",
   "execution_count": 47,
   "metadata": {},
   "outputs": [
    {
     "data": {
      "text/html": [
       "<div>\n",
       "<style scoped>\n",
       "    .dataframe tbody tr th:only-of-type {\n",
       "        vertical-align: middle;\n",
       "    }\n",
       "\n",
       "    .dataframe tbody tr th {\n",
       "        vertical-align: top;\n",
       "    }\n",
       "\n",
       "    .dataframe thead th {\n",
       "        text-align: right;\n",
       "    }\n",
       "</style>\n",
       "<table border=\"1\" class=\"dataframe\">\n",
       "  <thead>\n",
       "    <tr style=\"text-align: right;\">\n",
       "      <th></th>\n",
       "      <th>Median_House_Value</th>\n",
       "      <th>Median_Income</th>\n",
       "      <th>Median_Age</th>\n",
       "      <th>Tot_Rooms</th>\n",
       "      <th>Tot_Bedrooms</th>\n",
       "      <th>Population</th>\n",
       "      <th>Households</th>\n",
       "      <th>Latitude</th>\n",
       "      <th>Longitude</th>\n",
       "      <th>Distance_to_coast</th>\n",
       "      <th>Distance_to_LA</th>\n",
       "      <th>Distance_to_SanDiego</th>\n",
       "      <th>Distance_to_SanJose</th>\n",
       "      <th>Distance_to_SanFrancisco</th>\n",
       "    </tr>\n",
       "  </thead>\n",
       "  <tbody>\n",
       "    <tr>\n",
       "      <th>0</th>\n",
       "      <td>452600.0</td>\n",
       "      <td>8.3252</td>\n",
       "      <td>41</td>\n",
       "      <td>880</td>\n",
       "      <td>129</td>\n",
       "      <td>322</td>\n",
       "      <td>126</td>\n",
       "      <td>37.88</td>\n",
       "      <td>-122.23</td>\n",
       "      <td>9263.040773</td>\n",
       "      <td>556529.158342</td>\n",
       "      <td>735501.806984</td>\n",
       "      <td>67432.517001</td>\n",
       "      <td>21250.213767</td>\n",
       "    </tr>\n",
       "    <tr>\n",
       "      <th>1</th>\n",
       "      <td>358500.0</td>\n",
       "      <td>8.3014</td>\n",
       "      <td>21</td>\n",
       "      <td>7099</td>\n",
       "      <td>1106</td>\n",
       "      <td>2401</td>\n",
       "      <td>1138</td>\n",
       "      <td>37.86</td>\n",
       "      <td>-122.22</td>\n",
       "      <td>10225.733072</td>\n",
       "      <td>554279.850069</td>\n",
       "      <td>733236.884360</td>\n",
       "      <td>65049.908574</td>\n",
       "      <td>20880.600400</td>\n",
       "    </tr>\n",
       "    <tr>\n",
       "      <th>2</th>\n",
       "      <td>352100.0</td>\n",
       "      <td>7.2574</td>\n",
       "      <td>52</td>\n",
       "      <td>1467</td>\n",
       "      <td>190</td>\n",
       "      <td>496</td>\n",
       "      <td>177</td>\n",
       "      <td>37.85</td>\n",
       "      <td>-122.24</td>\n",
       "      <td>8259.085109</td>\n",
       "      <td>554610.717069</td>\n",
       "      <td>733525.682937</td>\n",
       "      <td>64867.289833</td>\n",
       "      <td>18811.487450</td>\n",
       "    </tr>\n",
       "    <tr>\n",
       "      <th>3</th>\n",
       "      <td>341300.0</td>\n",
       "      <td>5.6431</td>\n",
       "      <td>52</td>\n",
       "      <td>1274</td>\n",
       "      <td>235</td>\n",
       "      <td>558</td>\n",
       "      <td>219</td>\n",
       "      <td>37.85</td>\n",
       "      <td>-122.25</td>\n",
       "      <td>7768.086571</td>\n",
       "      <td>555194.266086</td>\n",
       "      <td>734095.290744</td>\n",
       "      <td>65287.138412</td>\n",
       "      <td>18031.047568</td>\n",
       "    </tr>\n",
       "    <tr>\n",
       "      <th>4</th>\n",
       "      <td>342200.0</td>\n",
       "      <td>3.8462</td>\n",
       "      <td>52</td>\n",
       "      <td>1627</td>\n",
       "      <td>280</td>\n",
       "      <td>565</td>\n",
       "      <td>259</td>\n",
       "      <td>37.85</td>\n",
       "      <td>-122.25</td>\n",
       "      <td>7768.086571</td>\n",
       "      <td>555194.266086</td>\n",
       "      <td>734095.290744</td>\n",
       "      <td>65287.138412</td>\n",
       "      <td>18031.047568</td>\n",
       "    </tr>\n",
       "    <tr>\n",
       "      <th>5</th>\n",
       "      <td>269700.0</td>\n",
       "      <td>4.0368</td>\n",
       "      <td>52</td>\n",
       "      <td>919</td>\n",
       "      <td>213</td>\n",
       "      <td>413</td>\n",
       "      <td>193</td>\n",
       "      <td>37.85</td>\n",
       "      <td>-122.25</td>\n",
       "      <td>7768.086571</td>\n",
       "      <td>555194.266086</td>\n",
       "      <td>734095.290744</td>\n",
       "      <td>65287.138412</td>\n",
       "      <td>18031.047568</td>\n",
       "    </tr>\n",
       "    <tr>\n",
       "      <th>6</th>\n",
       "      <td>299200.0</td>\n",
       "      <td>3.6591</td>\n",
       "      <td>52</td>\n",
       "      <td>2535</td>\n",
       "      <td>489</td>\n",
       "      <td>1094</td>\n",
       "      <td>514</td>\n",
       "      <td>37.84</td>\n",
       "      <td>-122.25</td>\n",
       "      <td>6843.020847</td>\n",
       "      <td>554364.406936</td>\n",
       "      <td>733249.808578</td>\n",
       "      <td>64315.991742</td>\n",
       "      <td>17538.209972</td>\n",
       "    </tr>\n",
       "    <tr>\n",
       "      <th>7</th>\n",
       "      <td>241400.0</td>\n",
       "      <td>3.1200</td>\n",
       "      <td>52</td>\n",
       "      <td>3104</td>\n",
       "      <td>687</td>\n",
       "      <td>1157</td>\n",
       "      <td>647</td>\n",
       "      <td>37.84</td>\n",
       "      <td>-122.25</td>\n",
       "      <td>6843.020847</td>\n",
       "      <td>554364.406936</td>\n",
       "      <td>733249.808578</td>\n",
       "      <td>64315.991742</td>\n",
       "      <td>17538.209972</td>\n",
       "    </tr>\n",
       "    <tr>\n",
       "      <th>8</th>\n",
       "      <td>226700.0</td>\n",
       "      <td>2.0804</td>\n",
       "      <td>42</td>\n",
       "      <td>2555</td>\n",
       "      <td>665</td>\n",
       "      <td>1206</td>\n",
       "      <td>595</td>\n",
       "      <td>37.84</td>\n",
       "      <td>-122.26</td>\n",
       "      <td>6363.948013</td>\n",
       "      <td>554949.749519</td>\n",
       "      <td>733820.824419</td>\n",
       "      <td>64751.463863</td>\n",
       "      <td>16744.406584</td>\n",
       "    </tr>\n",
       "    <tr>\n",
       "      <th>9</th>\n",
       "      <td>261100.0</td>\n",
       "      <td>3.6912</td>\n",
       "      <td>52</td>\n",
       "      <td>3549</td>\n",
       "      <td>707</td>\n",
       "      <td>1551</td>\n",
       "      <td>714</td>\n",
       "      <td>37.84</td>\n",
       "      <td>-122.25</td>\n",
       "      <td>6843.020847</td>\n",
       "      <td>554364.406936</td>\n",
       "      <td>733249.808578</td>\n",
       "      <td>64315.991742</td>\n",
       "      <td>17538.209972</td>\n",
       "    </tr>\n",
       "  </tbody>\n",
       "</table>\n",
       "</div>"
      ],
      "text/plain": [
       "   Median_House_Value  Median_Income  Median_Age  Tot_Rooms  Tot_Bedrooms  \\\n",
       "0            452600.0         8.3252          41        880           129   \n",
       "1            358500.0         8.3014          21       7099          1106   \n",
       "2            352100.0         7.2574          52       1467           190   \n",
       "3            341300.0         5.6431          52       1274           235   \n",
       "4            342200.0         3.8462          52       1627           280   \n",
       "5            269700.0         4.0368          52        919           213   \n",
       "6            299200.0         3.6591          52       2535           489   \n",
       "7            241400.0         3.1200          52       3104           687   \n",
       "8            226700.0         2.0804          42       2555           665   \n",
       "9            261100.0         3.6912          52       3549           707   \n",
       "\n",
       "   Population  Households  Latitude  Longitude  Distance_to_coast  \\\n",
       "0         322         126     37.88    -122.23        9263.040773   \n",
       "1        2401        1138     37.86    -122.22       10225.733072   \n",
       "2         496         177     37.85    -122.24        8259.085109   \n",
       "3         558         219     37.85    -122.25        7768.086571   \n",
       "4         565         259     37.85    -122.25        7768.086571   \n",
       "5         413         193     37.85    -122.25        7768.086571   \n",
       "6        1094         514     37.84    -122.25        6843.020847   \n",
       "7        1157         647     37.84    -122.25        6843.020847   \n",
       "8        1206         595     37.84    -122.26        6363.948013   \n",
       "9        1551         714     37.84    -122.25        6843.020847   \n",
       "\n",
       "   Distance_to_LA  Distance_to_SanDiego  Distance_to_SanJose  \\\n",
       "0   556529.158342         735501.806984         67432.517001   \n",
       "1   554279.850069         733236.884360         65049.908574   \n",
       "2   554610.717069         733525.682937         64867.289833   \n",
       "3   555194.266086         734095.290744         65287.138412   \n",
       "4   555194.266086         734095.290744         65287.138412   \n",
       "5   555194.266086         734095.290744         65287.138412   \n",
       "6   554364.406936         733249.808578         64315.991742   \n",
       "7   554364.406936         733249.808578         64315.991742   \n",
       "8   554949.749519         733820.824419         64751.463863   \n",
       "9   554364.406936         733249.808578         64315.991742   \n",
       "\n",
       "   Distance_to_SanFrancisco  \n",
       "0              21250.213767  \n",
       "1              20880.600400  \n",
       "2              18811.487450  \n",
       "3              18031.047568  \n",
       "4              18031.047568  \n",
       "5              18031.047568  \n",
       "6              17538.209972  \n",
       "7              17538.209972  \n",
       "8              16744.406584  \n",
       "9              17538.209972  "
      ]
     },
     "execution_count": 47,
     "metadata": {},
     "output_type": "execute_result"
    }
   ],
   "source": [
    "data.head(10)"
   ]
  },
  {
   "cell_type": "markdown",
   "metadata": {},
   "source": [
    "Data Splitting"
   ]
  },
  {
   "cell_type": "code",
   "execution_count": 48,
   "metadata": {},
   "outputs": [
    {
     "name": "stdout",
     "output_type": "stream",
     "text": [
      "Size of input training set: 14447 Size of output training set: 14447\n",
      "Size of input Validation set: 3097 Size of output Validation set: 3097\n",
      "Size of input testing set: 3096 Size of output testing set: 3096\n"
     ]
    }
   ],
   "source": [
    "# Data splitting\n",
    "features = ['Median_Income', 'Median_Age', 'Tot_Rooms', 'Tot_Bedrooms', 'Population', 'Households', 'Latitude', 'Longitude',\n",
    "             'Distance_to_coast', 'Distance_to_LA', 'Distance_to_SanDiego', 'Distance_to_SanJose', 'Distance_to_SanFrancisco']\n",
    "target = [\"Median_House_Value\"]\n",
    "\n",
    "X = data[features] # input\n",
    "y = data[target]   # output\n",
    "\n",
    "X_train_validate, X_test, y_train_validate, y_test = train_test_split(X, y, test_size=0.15, random_state=42)\n",
    "X_train, X_val, y_train, y_val = train_test_split(X_train_validate, y_train_validate, test_size=0.1765, random_state=42)  # 15% of 85% = 12.75%\n",
    "\n",
    "#check sizes\n",
    "print(\"Size of input training set:\" ,len(X_train) , \"Size of output training set:\", len(y_train)) # 70%\n",
    "print(\"Size of input Validation set:\" ,len(X_val) , \"Size of output Validation set:\", len(y_val) ) # 15%\n",
    "print(\"Size of input testing set:\" ,len(X_test) , \"Size of output testing set:\", len(y_test) ) # 15%\n"
   ]
  },
  {
   "cell_type": "markdown",
   "metadata": {},
   "source": [
    "Scaling"
   ]
  },
  {
   "cell_type": "code",
   "execution_count": 49,
   "metadata": {},
   "outputs": [],
   "source": [
    "from sklearn.preprocessing import StandardScaler\n",
    "scaler = StandardScaler()\n",
    "# Fit the scaler on the training data and transform it\n",
    "X_train_scaled = scaler.fit_transform(X_train)\n",
    "# Scale test data\n",
    "X_test_scaled = scaler.transform(X_test)"
   ]
  },
  {
   "cell_type": "markdown",
   "metadata": {},
   "source": [
    "Regression Models"
   ]
  },
  {
   "cell_type": "code",
   "execution_count": 50,
   "metadata": {},
   "outputs": [],
   "source": [
    "# Linear Regression\n",
    "linear_reg = LinearRegression()\n",
    "linear_reg.fit(X_train_scaled, y_train)\n",
    "linear_reg_predictions = linear_reg.predict(X_test_scaled)"
   ]
  },
  {
   "cell_type": "code",
   "execution_count": 51,
   "metadata": {},
   "outputs": [
    {
     "name": "stderr",
     "output_type": "stream",
     "text": [
      "c:\\Users\\Cyber\\anaconda3\\Lib\\site-packages\\sklearn\\linear_model\\_coordinate_descent.py:678: ConvergenceWarning: Objective did not converge. You might want to increase the number of iterations, check the scale of the features or consider increasing regularisation. Duality gap: 3.178e+13, tolerance: 1.928e+10\n",
      "  model = cd_fast.enet_coordinate_descent(\n"
     ]
    }
   ],
   "source": [
    "# Lasso Regression\n",
    "lasso_reg = Lasso(alpha=0.1)  # Regularization parameter alpha = 0.1\n",
    "lasso_reg.fit(X_train_scaled, y_train)\n",
    "lasso_reg_predictions = lasso_reg.predict(X_test_scaled)"
   ]
  },
  {
   "cell_type": "code",
   "execution_count": 52,
   "metadata": {},
   "outputs": [],
   "source": [
    "# Ridge Regression\n",
    "ridge_reg = Ridge(alpha=1.0)  # Regularization parameter alpha = 1.0\n",
    "ridge_reg.fit(X_train_scaled, y_train)\n",
    "ridge_reg_predictions = ridge_reg.predict(X_test_scaled)"
   ]
  },
  {
   "cell_type": "markdown",
   "metadata": {},
   "source": [
    "Plot the regression line"
   ]
  },
  {
   "cell_type": "code",
   "execution_count": 53,
   "metadata": {},
   "outputs": [
    {
     "data": {
      "image/png": "[encoded data removed]",
      "text/plain": [
       "<Figure size 640x480 with 1 Axes>"
      ]
     },
     "metadata": {},
     "output_type": "display_data"
    }
   ],
   "source": [
    "# Scatter plot for linear regression line\n",
    "plt.scatter(y_test, linear_reg_predictions , color=\"forestgreen\", label=\"Linear Regression\")\n",
    "plt.xlabel('Observed Values')\n",
    "plt.ylabel('Predicted Values')\n",
    "plt.title('Linear Regression')\n",
    "plt.legend()\n",
    "plt.plot(y_test, y_test, color='darkred')  # line for perfect prediction (true values)\n",
    "plt.show()"
   ]
  },
  {
   "cell_type": "code",
   "execution_count": 54,
   "metadata": {},
   "outputs": [
    {
     "data": {
      "image/png": "[encoded data removed]",
      "text/plain": [
       "<Figure size 640x480 with 1 Axes>"
      ]
     },
     "metadata": {},
     "output_type": "display_data"
    }
   ],
   "source": [
    "# Scatter plot for lasso regression line\n",
    "plt.scatter(y_test, lasso_reg_predictions, color=\"blue\", label=\"Lasso Regression\")\n",
    "plt.xlabel('Observed Values')\n",
    "plt.ylabel('Predicted Values')\n",
    "plt.title('(Lasso Regression)')\n",
    "plt.legend()\n",
    "plt.plot(y_test, y_test, color='darkred')  # line for perfect prediction (true values)\n",
    "plt.show()"
   ]
  },
  {
   "cell_type": "code",
   "execution_count": 55,
   "metadata": {},
   "outputs": [
    {
     "data": {
      "image/png": "[encoded data removed]",
      "text/plain": [
       "<Figure size 640x480 with 1 Axes>"
      ]
     },
     "metadata": {},
     "output_type": "display_data"
    }
   ],
   "source": [
    "# Scatter plot for ridge regression line\n",
    "plt.scatter(y_test, ridge_reg_predictions, color=\"orange\", label=\"Ridge Regression\")\n",
    "plt.xlabel('Observed Values')\n",
    "plt.ylabel('Predicted Values')\n",
    "plt.title('Ridge Regression')\n",
    "plt.legend()\n",
    "plt.plot(y_test, y_test, color='darkred')  # line for perfect prediction (true values)\n",
    "plt.show()"
   ]
  },
  {
   "cell_type": "markdown",
   "metadata": {},
   "source": [
    "Report"
   ]
  },
  {
   "cell_type": "code",
   "execution_count": 56,
   "metadata": {},
   "outputs": [
    {
     "name": "stdout",
     "output_type": "stream",
     "text": [
      "MSE :  4857042102.163028\n",
      "MAE :  50744.91362774617\n",
      "r2_score :  0.6293770994155378\n"
     ]
    }
   ],
   "source": [
    "#  Report (Mean Square Error and Mean Absolute Errors for linear regression) .\n",
    "mse_lr = mean_squared_error(y_test , linear_reg_predictions)\n",
    "mae_lr = mean_absolute_error(y_test , linear_reg_predictions)\n",
    "score_lr = r2_score(y_test , linear_reg_predictions)\n",
    "\n",
    "print('MSE : ' , mse_lr)\n",
    "print('MAE : ' , mae_lr)\n",
    "print('r2_score : ' , score_lr)\n"
   ]
  },
  {
   "cell_type": "code",
   "execution_count": 57,
   "metadata": {},
   "outputs": [
    {
     "name": "stdout",
     "output_type": "stream",
     "text": [
      "MSE :  4857205491.653456\n",
      "MAE :  50746.15004430964\n",
      "r2_score :  0.6293646317684403\n"
     ]
    }
   ],
   "source": [
    "#  Report (Mean Square Error and Mean Absolute Errors for lasso regression) .\n",
    "mse_lassor = mean_squared_error(y_test , lasso_reg_predictions)\n",
    "mae_lassor = mean_absolute_error(y_test , lasso_reg_predictions)\n",
    "score_lassor = r2_score(y_test , lasso_reg_predictions)\n",
    "\n",
    "print('MSE : ' , mse_lassor)\n",
    "print('MAE : ' , mae_lassor)\n",
    "print('r2_score : ' , score_lassor)\n"
   ]
  },
  {
   "cell_type": "code",
   "execution_count": 58,
   "metadata": {},
   "outputs": [
    {
     "name": "stdout",
     "output_type": "stream",
     "text": [
      "MSE :  4857422686.813388\n",
      "MAE :  50751.24899038836\n",
      "r2_score :  0.6293480584099076\n"
     ]
    }
   ],
   "source": [
    "#  Report (Mean Square Error and Mean Absolute Errors for Ridge regression) .\n",
    "mse_ridge = mean_squared_error(y_test , ridge_reg_predictions)\n",
    "mae_ridge = mean_absolute_error(y_test , ridge_reg_predictions)\n",
    "score_ridge = r2_score(y_test , ridge_reg_predictions)\n",
    "\n",
    "print('MSE : ' , mse_ridge)\n",
    "print('MAE : ' , mae_ridge)\n",
    "print('r2_score : ' , score_ridge)"
   ]
  }
 ],
 "metadata": {
  "kernelspec": {
   "display_name": "base",
   "language": "python",
   "name": "python3"
  },
  "language_info": {
   "codemirror_mode": {
    "name": "ipython",
    "version": 3
   },
   "file_extension": ".py",
   "mimetype": "text/x-python",
   "name": "python",
   "nbconvert_exporter": "python",
   "pygments_lexer": "ipython3",
   "version": "3.11.5"
  }
 },
 "nbformat": 4,
 "nbformat_minor": 2
}
